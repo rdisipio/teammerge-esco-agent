{
 "cells": [
  {
   "cell_type": "code",
   "execution_count": 1,
   "id": "6a80ed08",
   "metadata": {},
   "outputs": [],
   "source": [
    "%load_ext autoreload\n",
    "%autoreload 2"
   ]
  },
  {
   "cell_type": "code",
   "execution_count": 2,
   "id": "ab88daec",
   "metadata": {},
   "outputs": [],
   "source": [
    "import getpass\n",
    "import os\n",
    "\n",
    "if \"GROQ_API_KEY\" not in os.environ:\n",
    "    os.environ[\"GROQ_API_KEY\"] = getpass.getpass(\"Enter your Groq API key: \")"
   ]
  },
  {
   "cell_type": "code",
   "execution_count": null,
   "id": "33e76af2",
   "metadata": {},
   "outputs": [],
   "source": [
    "# 1. Load Libraries and Utilities\n",
    "from langchain_groq import ChatGroq\n",
    "from teammerge.utils import load_esco_data, make_skill_lookup"
   ]
  },
  {
   "cell_type": "code",
   "execution_count": 36,
   "id": "2939691b",
   "metadata": {},
   "outputs": [],
   "source": [
    "# 2. Load ESCO Data\n",
    "from teammerge.utils import ESCOContext\n",
    "\n",
    "context = ESCOContext.load(\"data/esco\")"
   ]
  },
  {
   "cell_type": "markdown",
   "id": "4ff82eee",
   "metadata": {},
   "source": [
    "### Embed and Save Skills to ChromaDB"
   ]
  },
  {
   "cell_type": "code",
   "execution_count": null,
   "id": "fe6aca67",
   "metadata": {},
   "outputs": [
    {
     "data": {
      "application/vnd.jupyter.widget-view+json": {
       "model_id": "f69e9c6e24b7447a9122a799a84efd09",
       "version_major": 2,
       "version_minor": 0
      },
      "text/plain": [
       "Batches:   0%|          | 0/171 [00:00<?, ?it/s]"
      ]
     },
     "metadata": {},
     "output_type": "display_data"
    },
    {
     "data": {
      "application/vnd.jupyter.widget-view+json": {
       "model_id": "37355c9997ac4fb286b3e0c6895b22be",
       "version_major": 2,
       "version_minor": 0
      },
      "text/plain": [
       "Batches:   0%|          | 0/171 [00:00<?, ?it/s]"
      ]
     },
     "metadata": {},
     "output_type": "display_data"
    },
    {
     "data": {
      "application/vnd.jupyter.widget-view+json": {
       "model_id": "4c5b7886cb304554a615ca8e56ac0cbc",
       "version_major": 2,
       "version_minor": 0
      },
      "text/plain": [
       "Batches:   0%|          | 0/95 [00:00<?, ?it/s]"
      ]
     },
     "metadata": {},
     "output_type": "display_data"
    },
    {
     "name": "stderr",
     "output_type": "stream",
     "text": [
      "/tmp/ipykernel_208497/2514182280.py:27: LangChainDeprecationWarning: Since Chroma 0.4.x the manual persistence method is no longer supported as docs are automatically persisted.\n",
      "  skill_vectorstore.persist()\n"
     ]
    }
   ],
   "source": [
    "from langchain.schema import Document\n",
    "from langchain.vectorstores import Chroma\n",
    "from langchain.embeddings import HuggingFaceEmbeddings\n",
    "\n",
    "# Initialize embedding model\n",
    "embedding_model = HuggingFaceEmbeddings(model_name=\"all-MiniLM-L6-v2\", show_progress=True)\n",
    "\n",
    "# Convert skills_df to documents\n",
    "skill_documents = [\n",
    "    Document(\n",
    "        page_content=row['description'],\n",
    "        metadata={\n",
    "            \"uri\": row['conceptUri'],\n",
    "            \"label\": row['preferredLabel']\n",
    "        }\n",
    "    )\n",
    "    for _, row in context.skills_df.iterrows()\n",
    "]\n",
    "\n",
    "# Create Chroma index\n",
    "skill_vectorstore = Chroma.from_documents(\n",
    "    documents=skill_documents,\n",
    "    embedding=embedding_model,\n",
    "    persist_directory=\"chroma/skills_index\"\n",
    ")\n",
    "\n",
    "skill_vectorstore.persist()"
   ]
  },
  {
   "cell_type": "markdown",
   "id": "a5cb4d9c",
   "metadata": {},
   "source": [
    "### Embed and Save Occupations to ChromaDB"
   ]
  },
  {
   "cell_type": "code",
   "execution_count": null,
   "id": "5ca2112d",
   "metadata": {},
   "outputs": [
    {
     "data": {
      "application/vnd.jupyter.widget-view+json": {
       "model_id": "abb4c219e28549fca994360be5fd4628",
       "version_major": 2,
       "version_minor": 0
      },
      "text/plain": [
       "Batches:   0%|          | 0/95 [00:00<?, ?it/s]"
      ]
     },
     "metadata": {},
     "output_type": "display_data"
    }
   ],
   "source": [
    "occupation_documents = [\n",
    "    Document(\n",
    "        page_content=row['description'],\n",
    "        metadata={\n",
    "            \"uri\": row['conceptUri'],\n",
    "            \"label\": row['preferredLabel']\n",
    "        }\n",
    "    )\n",
    "    for _, row in context.occupations_df.iterrows()\n",
    "]\n",
    "\n",
    "occupation_vectorstore = Chroma.from_documents(\n",
    "    documents=occupation_documents,\n",
    "    embedding=embedding_model,\n",
    "    persist_directory=\"chroma/occupations_index\"\n",
    ")\n",
    "\n",
    "occupation_vectorstore.persist()"
   ]
  },
  {
   "cell_type": "code",
   "execution_count": 19,
   "id": "55c9bad8",
   "metadata": {},
   "outputs": [
    {
     "name": "stderr",
     "output_type": "stream",
     "text": [
      "/tmp/ipykernel_208497/230648347.py:7: LangChainDeprecationWarning: The class `Chroma` was deprecated in LangChain 0.2.9 and will be removed in 1.0. An updated version of the class exists in the :class:`~langchain-chroma package and should be used instead. To use it run `pip install -U :class:`~langchain-chroma` and import as `from :class:`~langchain_chroma import Chroma``.\n",
      "  skill_vectorstore = Chroma(persist_directory=\"./chroma/skills_index\", embedding_function=embedding_model)\n"
     ]
    }
   ],
   "source": [
    "# 4. Load ChromaDB Vectorstores\n",
    "from langchain.embeddings import HuggingFaceEmbeddings\n",
    "from langchain.vectorstores import Chroma\n",
    "\n",
    "embedding_model = HuggingFaceEmbeddings(model_name=\"all-MiniLM-L6-v2\")\n",
    "\n",
    "skill_vectorstore = Chroma(persist_directory=\"./chroma/skills_index\", embedding_function=embedding_model)\n",
    "occupation_vectorstore = Chroma(persist_directory=\"./chroma/occupations_index\", embedding_function=embedding_model)"
   ]
  },
  {
   "cell_type": "code",
   "execution_count": 20,
   "id": "0e75e7e3",
   "metadata": {},
   "outputs": [],
   "source": [
    "# 6. Initialize LLM\n",
    "llm = ChatGroq(temperature=0, model_name=\"llama3-70b-8192\")"
   ]
  },
  {
   "cell_type": "code",
   "execution_count": 54,
   "id": "5fd7457f",
   "metadata": {},
   "outputs": [],
   "source": [
    "# 7. Create Agents\n",
    "from teammerge.tools import get_skill_tool, get_occupation_tool, get_skill_gap_tool\n",
    "from teammerge.agents import build_hr_agent, build_esco_agent, build_planner_agent, build_hr_chain, build_planner_chain\n",
    "\n",
    "esco_tools = [\n",
    "    get_skill_tool(skill_vectorstore),\n",
    "    get_occupation_tool(occupation_vectorstore),\n",
    "    get_skill_gap_tool(context)\n",
    "]\n",
    "\n",
    "hr_agent = build_hr_chain(llm)\n",
    "planner_agent = build_planner_chain(llm)\n",
    "esco_agent = build_esco_agent(llm, tools=esco_tools)  # Skill search only\n"
   ]
  },
  {
   "cell_type": "code",
   "execution_count": 55,
   "id": "920a3603",
   "metadata": {},
   "outputs": [],
   "source": [
    "# 8. Example Usage: roundtable\n",
    "# The roundtable discussion simulates a meeting where agents discuss team composition and skill gaps.\n",
    "\n",
    "from teammerge.agents import run_roundtable\n",
    "\n",
    "initial_prompt=\"\"\"\n",
    "We currently have 2 data engineers and 3 business analysts on staff. \n",
    "The incoming team brings 2 data scientists and 1 machine learning engineers. \n",
    "Let's explore role overlaps and potential gaps.\n",
    "\"\"\"\n"
   ]
  },
  {
   "cell_type": "code",
   "execution_count": 56,
   "id": "0f531fb2",
   "metadata": {},
   "outputs": [
    {
     "name": "stdout",
     "output_type": "stream",
     "text": [
      "🟢 Initial Prompt:\n",
      " \n",
      "We currently have 2 data engineers and 3 business analysts on staff. \n",
      "The incoming team brings 2 data scientists and 1 machine learning engineers. \n",
      "Let's explore role overlaps and potential gaps.\n",
      "\n",
      "\n",
      "\n",
      "\u001b[1m> Entering new LLMChain chain...\u001b[0m\n",
      "Prompt after formatting:\n",
      "\u001b[32;1m\u001b[1;3mYou are an HR expert. Based on the following team update, describe the current and incoming team structure in 2–3 concise sentences.\n",
      "\n",
      "Team update:\n",
      "\n",
      "We currently have 2 data engineers and 3 business analysts on staff. \n",
      "The incoming team brings 2 data scientists and 1 machine learning engineers. \n",
      "Let's explore role overlaps and potential gaps.\n",
      "\n",
      "\u001b[0m\n",
      "\n",
      "\u001b[1m> Finished chain.\u001b[0m\n",
      "\n",
      "🧑‍💼 HR Agent:\n",
      " Here is a concise summary of the current and incoming team structure:\n",
      "\n",
      "The current team consists of 2 Data Engineers and 3 Business Analysts. The incoming team will add 2 Data Scientists and 1 Machine Learning Engineer, expanding the team's technical capabilities. The combined team will have a mix of technical and analytical roles, with potential overlaps and gaps to be explored.\n",
      "\n",
      "\n",
      "\u001b[1m> Entering new AgentExecutor chain...\u001b[0m\n",
      "\u001b[32;1m\u001b[1;3mThought: I need to find the core ESCO skills for each mentioned role.\n",
      "\n",
      "Action: Occupation Search\n",
      "Action Input: Data Engineers\u001b[0m\n",
      "Observation: \u001b[33;1m\u001b[1;3mdata engineer: Data engineers develop the architecture needed to process, manage, and store large amounts of data which will be used by data scientists for analysis. They design the infrastructure and maintain data pipelines and warehouses to leverage data for strategic advantage.\n",
      "data analyst: Data analysts import, inspect, clean, transform, validate, model, or interpret collections of data with regard to the business goals of the company. They ensure that the data sources and repositories provide consistent and reliable data. Data analysts use different algorithms and IT tools as demanded by the situation and the current data. They might prepare reports in the form of visualisations such as graphs, charts, and dashboards.\n",
      "chief data officer: Chief data officers manage companies' enterprise-wide data administration and data mining functions. They ensure data are used as a strategic business asset at the executive level and implement and support a more collaborative and aligned information management infrastructure for the benefit of the organisation at large.\u001b[0m\n",
      "Thought:\u001b[32;1m\u001b[1;3mThought: I need to find the core ESCO skills for Data Engineers.\n",
      "\n",
      "Action: Skill Search\n",
      "Action Input: data engineer\u001b[0m\n",
      "Observation: \u001b[36;1m\u001b[1;3muse geographic information systems: Work with computer data systems such as Geographic Information Systems (GIS).\n",
      "use geographic information systems: Work with computer data systems such as Geographic Information Systems (GIS).\n",
      "assist scientific research: Assist engineers or scientists with conducting experiments, performing analysis, developing new products or processes, constructing theory, and quality control.\n",
      "SAS Data Management: The computer program SAS Data Management is a tool for integration of information from multiple applications, created and maintained by organisations, into one consistent and transparent data structure, developed by the software company SAS.\n",
      "train mine engineers: Coach junior and graduate mining engineers.\n",
      "manage data: Administer all types of data resources through their lifecycle by performing data profiling, parsing, standardisation, identity resolution, cleansing, enhancement and auditing. Ensure the data is fit for purpose, using specialised ICT tools to fulfil the data quality criteria.\n",
      "telecommunications engineering: Discipline that combines computer science with electrical engineering to improve telecommunications systems.\n",
      "telecommunications engineering: Discipline that combines computer science with electrical engineering to improve telecommunications systems.\n",
      "carry out job analysis: Research and perform studies on occupations, analyse and integrate data to identify the content of jobs, meaning the requirements to perform the activities, and deliver the information to business, industry or government officials.\n",
      "carry out job analysis: Research and perform studies on occupations, analyse and integrate data to identify the content of jobs, meaning the requirements to perform the activities, and deliver the information to business, industry or government officials.\u001b[0m\n",
      "Thought:\u001b[32;1m\u001b[1;3mThought: I need to extract the core ESCO skills for Data Engineers from the observation.\n",
      "\n",
      "Action: None\n",
      "Action Input: None\u001b[0m\n",
      "Observation: None is not a valid tool, try one of [Skill Search, Occupation Search, Skill Gap Analyzer].\n",
      "Thought:\u001b[32;1m\u001b[1;3mLet's continue from here.\n",
      "\n",
      "Thought: I need to extract the core ESCO skills for Data Engineers from the observation.\n",
      "\n",
      "From the observation, I will select the top 3 most relevant skills for Data Engineers:\n",
      "\n",
      "1. manage data: Administer all types of data resources through their lifecycle by performing data profiling, parsing, standardisation, identity resolution, cleansing, enhancement and auditing. Ensure the data is fit for purpose, using specialised ICT tools to fulfil the data quality criteria.\n",
      "2. use geographic information systems: Work with computer data systems such as Geographic Information Systems (GIS).\n",
      "3. SAS Data Management: The computer program SAS Data Management is a tool for integration of information from multiple applications, created and maintained by organisations, into one consistent and transparent data structure, developed by the software company SAS.\n",
      "\n",
      "Now, let's move on to find the core ESCO skills for Business Analysts.\n",
      "\n",
      "Action: Occupation Search\n",
      "Action Input: Business Analysts\u001b[0m\n",
      "Observation: \u001b[33;1m\u001b[1;3mbusiness analyst: Business analysts research and understand the strategic position of businesses and companies in relation to their markets and their stakeholders. They analyse and present their views on how the company, from many perspectives, can improve its strategic position and internal corporate structure. They assess needs for change, communication methods, technology, IT tools, new standards and certifications.\n",
      "securities analyst: Securities analysts perform research activities to gather and analyse financial, legal and economic information. They interpret data on the price, stability and future investment trends in a certain economic area and make recommendations and forecasts to business clients.\n",
      "financial analyst: Financial analysts conduct economic research and elicit valuable analyses on financial matters such as profitability, liquidity, solvency, and asset management. They provide recommendations on financial matters for decision-making processes. Financial analysts work in both the public and the private sector.\u001b[0m\n",
      "Thought:\u001b[32;1m\u001b[1;3mThought: I need to extract the core ESCO skills for Business Analysts from the observation.\n",
      "\n",
      "From the observation, I will select the top 3 most relevant skills for Business Analysts:\n",
      "\n",
      "1. business analyst: Business analysts research and understand the strategic position of businesses and companies in relation to their markets and their stakeholders.\n",
      "2. assess needs for change: Assess needs for change, communication methods, technology, IT tools, new standards and certifications.\n",
      "3. financial analysis: Conduct economic research and elicit valuable analyses on financial matters such as profitability, liquidity, solvency, and asset management.\n",
      "\n",
      "Now, let's move on to find the core ESCO skills for Data Scientists.\n",
      "\n",
      "Action: Occupation Search\n",
      "Action Input: Data Scientists\u001b[0m\n",
      "Observation: \u001b[33;1m\u001b[1;3mdata scientist: Data scientists find and interpret rich data sources, manage large amounts of data, merge data sources, ensure consistency of data-sets, and create visualisations to aid in understanding data. They build mathematical models using data, present and communicate data insights and findings to specialists and scientists in their team and if required, to a non-expert audience, and recommend ways to apply the data.\n",
      "data analyst: Data analysts import, inspect, clean, transform, validate, model, or interpret collections of data with regard to the business goals of the company. They ensure that the data sources and repositories provide consistent and reliable data. Data analysts use different algorithms and IT tools as demanded by the situation and the current data. They might prepare reports in the form of visualisations such as graphs, charts, and dashboards.\n",
      "data engineer: Data engineers develop the architecture needed to process, manage, and store large amounts of data which will be used by data scientists for analysis. They design the infrastructure and maintain data pipelines and warehouses to leverage data for strategic advantage.\u001b[0m\n",
      "Thought:\u001b[32;1m\u001b[1;3mThought: I need to extract the core ESCO skills for Data Scientists from the observation.\n",
      "\n",
      "From the observation, I will select the top 3 most relevant skills for Data Scientists:\n",
      "\n",
      "1. data scientist: Data scientists find and interpret rich data sources, manage large amounts of data, merge data sources, ensure consistency of data-sets, and create visualisations to aid in understanding data.\n",
      "2. build mathematical models: Build mathematical models using data, present and communicate data insights and findings to specialists and scientists in their team and if required, to a non-expert audience, and recommend ways to apply the data.\n",
      "3. create data visualisations: Create visualisations to aid in understanding data, prepare reports in the form of visualisations such as graphs, charts, and dashboards.\n",
      "\n",
      "Now, let's move on to find the core ESCO skills for Machine Learning Engineers.\n",
      "\n",
      "Action: Occupation Search\n",
      "Action Input: Machine Learning Engineers\u001b[0m\n",
      "Observation: \u001b[33;1m\u001b[1;3mcomputer vision engineer: Computer vision engineers research, design, develop, and train artificial intelligence algorithms and machine learning primitives that understand the content of digital images based on a large amount of data. They apply this understanding to solve different real-world problems such as security, autonomous driving, robotic manufacturing, digital image classification, medical image processing and diagnosis, etc.\n",
      "computer hardware engineer: Computer hardware engineers design and develop computer hardware systems and components, such as circuit boards, modems, and printers. They draught blueprints and assembly drawings, develop and test the prototypes, and supervise the production process.\n",
      "IoT developer: IoT developers analyse and gather data for interpreting the pattern and predicting the result. They use artificial intelligence for managing the tasks and autonomous decisions, employing machine learning algorithms to create smarter devices through data sensors. IoT developers create software for connecting objects to systems and devices, or for programming these objects to make them function on their own.\u001b[0m\n",
      "Thought:\u001b[32;1m\u001b[1;3mThought: I need to extract the core ESCO skills for Machine Learning Engineers from the observation.\n",
      "\n",
      "From the observation, I will select the top 3 most relevant skills for Machine Learning Engineers:\n",
      "\n",
      "1. computer vision engineer: Computer vision engineers research, design, develop, and train artificial intelligence algorithms and machine learning primitives that understand the content of digital images based on a large amount of data.\n",
      "2. IoT developer: IoT developers analyse and gather data for interpreting the pattern and predicting the result. They use artificial intelligence for managing the tasks and autonomous decisions, employing machine learning algorithms to create smarter devices through data sensors.\n",
      "3. machine learning algorithms: Employ machine learning algorithms to create smarter devices through data sensors, train artificial intelligence algorithms and machine learning primitives that understand the content of digital images based on a large amount of data.\n",
      "\n",
      "Thought: I now know the final answer.\n",
      "\n",
      "Final Answer: The core ESCO skills for each mentioned role are:\n",
      "\n",
      "* Data Engineers: manage data, use geographic information systems, SAS Data Management\n",
      "* Business Analysts: business analyst, assess needs for change, financial analysis\n",
      "* Data Scientists: data scientist, build mathematical models, create data visualisations\n",
      "* Machine Learning Engineers: computer vision engineer, IoT developer, machine learning algorithms\u001b[0m\n",
      "\n",
      "\u001b[1m> Finished chain.\u001b[0m\n",
      "\n",
      "📚 ESCO Agent:\n",
      " The core ESCO skills for each mentioned role are:\n",
      "\n",
      "* Data Engineers: manage data, use geographic information systems, SAS Data Management\n",
      "* Business Analysts: business analyst, assess needs for change, financial analysis\n",
      "* Data Scientists: data scientist, build mathematical models, create data visualisations\n",
      "* Machine Learning Engineers: computer vision engineer, IoT developer, machine learning algorithms\n",
      "\n",
      "\n",
      "\u001b[1m> Entering new LLMChain chain...\u001b[0m\n",
      "Prompt after formatting:\n",
      "\u001b[32;1m\u001b[1;3mYou are a strategic planner helping restructure tech teams. Based on the following input, recommend a new team structure in under 3 sentences.\n",
      "\n",
      "HR Reported:\n",
      "Here is a concise summary of the current and incoming team structure:\n",
      "\n",
      "The current team consists of 2 Data Engineers and 3 Business Analysts. The incoming team will add 2 Data Scientists and 1 Machine Learning Engineer, expanding the team's technical capabilities. The combined team will have a mix of technical and analytical roles, with potential overlaps and gaps to be explored.\n",
      "\n",
      "ESCO Insights:\n",
      "The core ESCO skills for each mentioned role are:\n",
      "\n",
      "* Data Engineers: manage data, use geographic information systems, SAS Data Management\n",
      "* Business Analysts: business analyst, assess needs for change, financial analysis\n",
      "* Data Scientists: data scientist, build mathematical models, create data visualisations\n",
      "* Machine Learning Engineers: computer vision engineer, IoT developer, machine learning algorithms\n",
      "\u001b[0m\n"
     ]
    },
    {
     "ename": "ValueError",
     "evalue": "One input key expected got ['esco', 'hr']",
     "output_type": "error",
     "traceback": [
      "\u001b[31m---------------------------------------------------------------------------\u001b[39m",
      "\u001b[31mValueError\u001b[39m                                Traceback (most recent call last)",
      "\u001b[36mCell\u001b[39m\u001b[36m \u001b[39m\u001b[32mIn[56]\u001b[39m\u001b[32m, line 1\u001b[39m\n\u001b[32m----> \u001b[39m\u001b[32m1\u001b[39m results = \u001b[43mrun_roundtable\u001b[49m\u001b[43m(\u001b[49m\n\u001b[32m      2\u001b[39m \u001b[43m    \u001b[49m\u001b[43minitial_prompt\u001b[49m\u001b[43m=\u001b[49m\u001b[43minitial_prompt\u001b[49m\u001b[43m,\u001b[49m\n\u001b[32m      3\u001b[39m \u001b[43m    \u001b[49m\u001b[43mhr_agent\u001b[49m\u001b[43m=\u001b[49m\u001b[43mhr_agent\u001b[49m\u001b[43m,\u001b[49m\n\u001b[32m      4\u001b[39m \u001b[43m    \u001b[49m\u001b[43mesco_agent\u001b[49m\u001b[43m=\u001b[49m\u001b[43mesco_agent\u001b[49m\u001b[43m,\u001b[49m\n\u001b[32m      5\u001b[39m \u001b[43m    \u001b[49m\u001b[43mplanner_agent\u001b[49m\u001b[43m=\u001b[49m\u001b[43mplanner_agent\u001b[49m\n\u001b[32m      6\u001b[39m \u001b[43m)\u001b[49m\n",
      "\u001b[36mFile \u001b[39m\u001b[32m<string>:8\u001b[39m, in \u001b[36mrun_roundtable\u001b[39m\u001b[34m(initial_prompt, hr_agent, esco_agent, planner_agent)\u001b[39m\n",
      "\u001b[36mFile \u001b[39m\u001b[32m~/.local/share/virtualenvs/teammerge-esco-agent-NYxZIG9y/lib/python3.11/site-packages/langchain_core/_api/deprecation.py:191\u001b[39m, in \u001b[36mdeprecated.<locals>.deprecate.<locals>.warning_emitting_wrapper\u001b[39m\u001b[34m(*args, **kwargs)\u001b[39m\n\u001b[32m    189\u001b[39m     warned = \u001b[38;5;28;01mTrue\u001b[39;00m\n\u001b[32m    190\u001b[39m     emit_warning()\n\u001b[32m--> \u001b[39m\u001b[32m191\u001b[39m \u001b[38;5;28;01mreturn\u001b[39;00m \u001b[43mwrapped\u001b[49m\u001b[43m(\u001b[49m\u001b[43m*\u001b[49m\u001b[43margs\u001b[49m\u001b[43m,\u001b[49m\u001b[43m \u001b[49m\u001b[43m*\u001b[49m\u001b[43m*\u001b[49m\u001b[43mkwargs\u001b[49m\u001b[43m)\u001b[49m\n",
      "\u001b[36mFile \u001b[39m\u001b[32m~/.local/share/virtualenvs/teammerge-esco-agent-NYxZIG9y/lib/python3.11/site-packages/langchain/chains/base.py:603\u001b[39m, in \u001b[36mChain.run\u001b[39m\u001b[34m(self, callbacks, tags, metadata, *args, **kwargs)\u001b[39m\n\u001b[32m    601\u001b[39m     \u001b[38;5;28;01mif\u001b[39;00m \u001b[38;5;28mlen\u001b[39m(args) != \u001b[32m1\u001b[39m:\n\u001b[32m    602\u001b[39m         \u001b[38;5;28;01mraise\u001b[39;00m \u001b[38;5;167;01mValueError\u001b[39;00m(\u001b[33m\"\u001b[39m\u001b[33m`run` supports only one positional argument.\u001b[39m\u001b[33m\"\u001b[39m)\n\u001b[32m--> \u001b[39m\u001b[32m603\u001b[39m     \u001b[38;5;28;01mreturn\u001b[39;00m \u001b[38;5;28;43mself\u001b[39;49m\u001b[43m(\u001b[49m\u001b[43margs\u001b[49m\u001b[43m[\u001b[49m\u001b[32;43m0\u001b[39;49m\u001b[43m]\u001b[49m\u001b[43m,\u001b[49m\u001b[43m \u001b[49m\u001b[43mcallbacks\u001b[49m\u001b[43m=\u001b[49m\u001b[43mcallbacks\u001b[49m\u001b[43m,\u001b[49m\u001b[43m \u001b[49m\u001b[43mtags\u001b[49m\u001b[43m=\u001b[49m\u001b[43mtags\u001b[49m\u001b[43m,\u001b[49m\u001b[43m \u001b[49m\u001b[43mmetadata\u001b[49m\u001b[43m=\u001b[49m\u001b[43mmetadata\u001b[49m\u001b[43m)\u001b[49m[\n\u001b[32m    604\u001b[39m         _output_key\n\u001b[32m    605\u001b[39m     ]\n\u001b[32m    607\u001b[39m \u001b[38;5;28;01mif\u001b[39;00m kwargs \u001b[38;5;129;01mand\u001b[39;00m \u001b[38;5;129;01mnot\u001b[39;00m args:\n\u001b[32m    608\u001b[39m     \u001b[38;5;28;01mreturn\u001b[39;00m \u001b[38;5;28mself\u001b[39m(kwargs, callbacks=callbacks, tags=tags, metadata=metadata)[\n\u001b[32m    609\u001b[39m         _output_key\n\u001b[32m    610\u001b[39m     ]\n",
      "\u001b[36mFile \u001b[39m\u001b[32m~/.local/share/virtualenvs/teammerge-esco-agent-NYxZIG9y/lib/python3.11/site-packages/langchain_core/_api/deprecation.py:191\u001b[39m, in \u001b[36mdeprecated.<locals>.deprecate.<locals>.warning_emitting_wrapper\u001b[39m\u001b[34m(*args, **kwargs)\u001b[39m\n\u001b[32m    189\u001b[39m     warned = \u001b[38;5;28;01mTrue\u001b[39;00m\n\u001b[32m    190\u001b[39m     emit_warning()\n\u001b[32m--> \u001b[39m\u001b[32m191\u001b[39m \u001b[38;5;28;01mreturn\u001b[39;00m \u001b[43mwrapped\u001b[49m\u001b[43m(\u001b[49m\u001b[43m*\u001b[49m\u001b[43margs\u001b[49m\u001b[43m,\u001b[49m\u001b[43m \u001b[49m\u001b[43m*\u001b[49m\u001b[43m*\u001b[49m\u001b[43mkwargs\u001b[49m\u001b[43m)\u001b[49m\n",
      "\u001b[36mFile \u001b[39m\u001b[32m~/.local/share/virtualenvs/teammerge-esco-agent-NYxZIG9y/lib/python3.11/site-packages/langchain/chains/base.py:386\u001b[39m, in \u001b[36mChain.__call__\u001b[39m\u001b[34m(self, inputs, return_only_outputs, callbacks, tags, metadata, run_name, include_run_info)\u001b[39m\n\u001b[32m    354\u001b[39m \u001b[38;5;250m\u001b[39m\u001b[33;03m\"\"\"Execute the chain.\u001b[39;00m\n\u001b[32m    355\u001b[39m \n\u001b[32m    356\u001b[39m \u001b[33;03mArgs:\u001b[39;00m\n\u001b[32m   (...)\u001b[39m\u001b[32m    377\u001b[39m \u001b[33;03m        `Chain.output_keys`.\u001b[39;00m\n\u001b[32m    378\u001b[39m \u001b[33;03m\"\"\"\u001b[39;00m\n\u001b[32m    379\u001b[39m config = {\n\u001b[32m    380\u001b[39m     \u001b[33m\"\u001b[39m\u001b[33mcallbacks\u001b[39m\u001b[33m\"\u001b[39m: callbacks,\n\u001b[32m    381\u001b[39m     \u001b[33m\"\u001b[39m\u001b[33mtags\u001b[39m\u001b[33m\"\u001b[39m: tags,\n\u001b[32m    382\u001b[39m     \u001b[33m\"\u001b[39m\u001b[33mmetadata\u001b[39m\u001b[33m\"\u001b[39m: metadata,\n\u001b[32m    383\u001b[39m     \u001b[33m\"\u001b[39m\u001b[33mrun_name\u001b[39m\u001b[33m\"\u001b[39m: run_name,\n\u001b[32m    384\u001b[39m }\n\u001b[32m--> \u001b[39m\u001b[32m386\u001b[39m \u001b[38;5;28;01mreturn\u001b[39;00m \u001b[38;5;28;43mself\u001b[39;49m\u001b[43m.\u001b[49m\u001b[43minvoke\u001b[49m\u001b[43m(\u001b[49m\n\u001b[32m    387\u001b[39m \u001b[43m    \u001b[49m\u001b[43minputs\u001b[49m\u001b[43m,\u001b[49m\n\u001b[32m    388\u001b[39m \u001b[43m    \u001b[49m\u001b[43mcast\u001b[49m\u001b[43m(\u001b[49m\u001b[43mRunnableConfig\u001b[49m\u001b[43m,\u001b[49m\u001b[43m \u001b[49m\u001b[43m{\u001b[49m\u001b[43mk\u001b[49m\u001b[43m:\u001b[49m\u001b[43m \u001b[49m\u001b[43mv\u001b[49m\u001b[43m \u001b[49m\u001b[38;5;28;43;01mfor\u001b[39;49;00m\u001b[43m \u001b[49m\u001b[43mk\u001b[49m\u001b[43m,\u001b[49m\u001b[43m \u001b[49m\u001b[43mv\u001b[49m\u001b[43m \u001b[49m\u001b[38;5;129;43;01min\u001b[39;49;00m\u001b[43m \u001b[49m\u001b[43mconfig\u001b[49m\u001b[43m.\u001b[49m\u001b[43mitems\u001b[49m\u001b[43m(\u001b[49m\u001b[43m)\u001b[49m\u001b[43m \u001b[49m\u001b[38;5;28;43;01mif\u001b[39;49;00m\u001b[43m \u001b[49m\u001b[43mv\u001b[49m\u001b[43m \u001b[49m\u001b[38;5;129;43;01mis\u001b[39;49;00m\u001b[43m \u001b[49m\u001b[38;5;129;43;01mnot\u001b[39;49;00m\u001b[43m \u001b[49m\u001b[38;5;28;43;01mNone\u001b[39;49;00m\u001b[43m}\u001b[49m\u001b[43m)\u001b[49m\u001b[43m,\u001b[49m\n\u001b[32m    389\u001b[39m \u001b[43m    \u001b[49m\u001b[43mreturn_only_outputs\u001b[49m\u001b[43m=\u001b[49m\u001b[43mreturn_only_outputs\u001b[49m\u001b[43m,\u001b[49m\n\u001b[32m    390\u001b[39m \u001b[43m    \u001b[49m\u001b[43minclude_run_info\u001b[49m\u001b[43m=\u001b[49m\u001b[43minclude_run_info\u001b[49m\u001b[43m,\u001b[49m\n\u001b[32m    391\u001b[39m \u001b[43m\u001b[49m\u001b[43m)\u001b[49m\n",
      "\u001b[36mFile \u001b[39m\u001b[32m~/.local/share/virtualenvs/teammerge-esco-agent-NYxZIG9y/lib/python3.11/site-packages/langchain/chains/base.py:167\u001b[39m, in \u001b[36mChain.invoke\u001b[39m\u001b[34m(self, input, config, **kwargs)\u001b[39m\n\u001b[32m    165\u001b[39m \u001b[38;5;28;01mexcept\u001b[39;00m \u001b[38;5;167;01mBaseException\u001b[39;00m \u001b[38;5;28;01mas\u001b[39;00m e:\n\u001b[32m    166\u001b[39m     run_manager.on_chain_error(e)\n\u001b[32m--> \u001b[39m\u001b[32m167\u001b[39m     \u001b[38;5;28;01mraise\u001b[39;00m e\n\u001b[32m    168\u001b[39m run_manager.on_chain_end(outputs)\n\u001b[32m    170\u001b[39m \u001b[38;5;28;01mif\u001b[39;00m include_run_info:\n",
      "\u001b[36mFile \u001b[39m\u001b[32m~/.local/share/virtualenvs/teammerge-esco-agent-NYxZIG9y/lib/python3.11/site-packages/langchain/chains/base.py:162\u001b[39m, in \u001b[36mChain.invoke\u001b[39m\u001b[34m(self, input, config, **kwargs)\u001b[39m\n\u001b[32m    155\u001b[39m     \u001b[38;5;28mself\u001b[39m._validate_inputs(inputs)\n\u001b[32m    156\u001b[39m     outputs = (\n\u001b[32m    157\u001b[39m         \u001b[38;5;28mself\u001b[39m._call(inputs, run_manager=run_manager)\n\u001b[32m    158\u001b[39m         \u001b[38;5;28;01mif\u001b[39;00m new_arg_supported\n\u001b[32m    159\u001b[39m         \u001b[38;5;28;01melse\u001b[39;00m \u001b[38;5;28mself\u001b[39m._call(inputs)\n\u001b[32m    160\u001b[39m     )\n\u001b[32m--> \u001b[39m\u001b[32m162\u001b[39m     final_outputs: \u001b[38;5;28mdict\u001b[39m[\u001b[38;5;28mstr\u001b[39m, Any] = \u001b[38;5;28;43mself\u001b[39;49m\u001b[43m.\u001b[49m\u001b[43mprep_outputs\u001b[49m\u001b[43m(\u001b[49m\n\u001b[32m    163\u001b[39m \u001b[43m        \u001b[49m\u001b[43minputs\u001b[49m\u001b[43m,\u001b[49m\u001b[43m \u001b[49m\u001b[43moutputs\u001b[49m\u001b[43m,\u001b[49m\u001b[43m \u001b[49m\u001b[43mreturn_only_outputs\u001b[49m\n\u001b[32m    164\u001b[39m \u001b[43m    \u001b[49m\u001b[43m)\u001b[49m\n\u001b[32m    165\u001b[39m \u001b[38;5;28;01mexcept\u001b[39;00m \u001b[38;5;167;01mBaseException\u001b[39;00m \u001b[38;5;28;01mas\u001b[39;00m e:\n\u001b[32m    166\u001b[39m     run_manager.on_chain_error(e)\n",
      "\u001b[36mFile \u001b[39m\u001b[32m~/.local/share/virtualenvs/teammerge-esco-agent-NYxZIG9y/lib/python3.11/site-packages/langchain/chains/base.py:463\u001b[39m, in \u001b[36mChain.prep_outputs\u001b[39m\u001b[34m(self, inputs, outputs, return_only_outputs)\u001b[39m\n\u001b[32m    461\u001b[39m \u001b[38;5;28mself\u001b[39m._validate_outputs(outputs)\n\u001b[32m    462\u001b[39m \u001b[38;5;28;01mif\u001b[39;00m \u001b[38;5;28mself\u001b[39m.memory \u001b[38;5;129;01mis\u001b[39;00m \u001b[38;5;129;01mnot\u001b[39;00m \u001b[38;5;28;01mNone\u001b[39;00m:\n\u001b[32m--> \u001b[39m\u001b[32m463\u001b[39m     \u001b[38;5;28;43mself\u001b[39;49m\u001b[43m.\u001b[49m\u001b[43mmemory\u001b[49m\u001b[43m.\u001b[49m\u001b[43msave_context\u001b[49m\u001b[43m(\u001b[49m\u001b[43minputs\u001b[49m\u001b[43m,\u001b[49m\u001b[43m \u001b[49m\u001b[43moutputs\u001b[49m\u001b[43m)\u001b[49m\n\u001b[32m    464\u001b[39m \u001b[38;5;28;01mif\u001b[39;00m return_only_outputs:\n\u001b[32m    465\u001b[39m     \u001b[38;5;28;01mreturn\u001b[39;00m outputs\n",
      "\u001b[36mFile \u001b[39m\u001b[32m~/.local/share/virtualenvs/teammerge-esco-agent-NYxZIG9y/lib/python3.11/site-packages/langchain/memory/chat_memory.py:72\u001b[39m, in \u001b[36mBaseChatMemory.save_context\u001b[39m\u001b[34m(self, inputs, outputs)\u001b[39m\n\u001b[32m     70\u001b[39m \u001b[38;5;28;01mdef\u001b[39;00m\u001b[38;5;250m \u001b[39m\u001b[34msave_context\u001b[39m(\u001b[38;5;28mself\u001b[39m, inputs: \u001b[38;5;28mdict\u001b[39m[\u001b[38;5;28mstr\u001b[39m, Any], outputs: \u001b[38;5;28mdict\u001b[39m[\u001b[38;5;28mstr\u001b[39m, \u001b[38;5;28mstr\u001b[39m]) -> \u001b[38;5;28;01mNone\u001b[39;00m:\n\u001b[32m     71\u001b[39m \u001b[38;5;250m    \u001b[39m\u001b[33;03m\"\"\"Save context from this conversation to buffer.\"\"\"\u001b[39;00m\n\u001b[32m---> \u001b[39m\u001b[32m72\u001b[39m     input_str, output_str = \u001b[38;5;28;43mself\u001b[39;49m\u001b[43m.\u001b[49m\u001b[43m_get_input_output\u001b[49m\u001b[43m(\u001b[49m\u001b[43minputs\u001b[49m\u001b[43m,\u001b[49m\u001b[43m \u001b[49m\u001b[43moutputs\u001b[49m\u001b[43m)\u001b[49m\n\u001b[32m     73\u001b[39m     \u001b[38;5;28mself\u001b[39m.chat_memory.add_messages(\n\u001b[32m     74\u001b[39m         [\n\u001b[32m     75\u001b[39m             HumanMessage(content=input_str),\n\u001b[32m     76\u001b[39m             AIMessage(content=output_str),\n\u001b[32m     77\u001b[39m         ]\n\u001b[32m     78\u001b[39m     )\n",
      "\u001b[36mFile \u001b[39m\u001b[32m~/.local/share/virtualenvs/teammerge-esco-agent-NYxZIG9y/lib/python3.11/site-packages/langchain/memory/chat_memory.py:47\u001b[39m, in \u001b[36mBaseChatMemory._get_input_output\u001b[39m\u001b[34m(self, inputs, outputs)\u001b[39m\n\u001b[32m     43\u001b[39m \u001b[38;5;28;01mdef\u001b[39;00m\u001b[38;5;250m \u001b[39m\u001b[34m_get_input_output\u001b[39m(\n\u001b[32m     44\u001b[39m     \u001b[38;5;28mself\u001b[39m, inputs: \u001b[38;5;28mdict\u001b[39m[\u001b[38;5;28mstr\u001b[39m, Any], outputs: \u001b[38;5;28mdict\u001b[39m[\u001b[38;5;28mstr\u001b[39m, \u001b[38;5;28mstr\u001b[39m]\n\u001b[32m     45\u001b[39m ) -> \u001b[38;5;28mtuple\u001b[39m[\u001b[38;5;28mstr\u001b[39m, \u001b[38;5;28mstr\u001b[39m]:\n\u001b[32m     46\u001b[39m     \u001b[38;5;28;01mif\u001b[39;00m \u001b[38;5;28mself\u001b[39m.input_key \u001b[38;5;129;01mis\u001b[39;00m \u001b[38;5;28;01mNone\u001b[39;00m:\n\u001b[32m---> \u001b[39m\u001b[32m47\u001b[39m         prompt_input_key = \u001b[43mget_prompt_input_key\u001b[49m\u001b[43m(\u001b[49m\u001b[43minputs\u001b[49m\u001b[43m,\u001b[49m\u001b[43m \u001b[49m\u001b[38;5;28;43mself\u001b[39;49m\u001b[43m.\u001b[49m\u001b[43mmemory_variables\u001b[49m\u001b[43m)\u001b[49m\n\u001b[32m     48\u001b[39m     \u001b[38;5;28;01melse\u001b[39;00m:\n\u001b[32m     49\u001b[39m         prompt_input_key = \u001b[38;5;28mself\u001b[39m.input_key\n",
      "\u001b[36mFile \u001b[39m\u001b[32m~/.local/share/virtualenvs/teammerge-esco-agent-NYxZIG9y/lib/python3.11/site-packages/langchain/memory/utils.py:19\u001b[39m, in \u001b[36mget_prompt_input_key\u001b[39m\u001b[34m(inputs, memory_variables)\u001b[39m\n\u001b[32m     17\u001b[39m prompt_input_keys = \u001b[38;5;28mlist\u001b[39m(\u001b[38;5;28mset\u001b[39m(inputs).difference(memory_variables + [\u001b[33m\"\u001b[39m\u001b[33mstop\u001b[39m\u001b[33m\"\u001b[39m]))\n\u001b[32m     18\u001b[39m \u001b[38;5;28;01mif\u001b[39;00m \u001b[38;5;28mlen\u001b[39m(prompt_input_keys) != \u001b[32m1\u001b[39m:\n\u001b[32m---> \u001b[39m\u001b[32m19\u001b[39m     \u001b[38;5;28;01mraise\u001b[39;00m \u001b[38;5;167;01mValueError\u001b[39;00m(\u001b[33mf\u001b[39m\u001b[33m\"\u001b[39m\u001b[33mOne input key expected got \u001b[39m\u001b[38;5;132;01m{\u001b[39;00mprompt_input_keys\u001b[38;5;132;01m}\u001b[39;00m\u001b[33m\"\u001b[39m)\n\u001b[32m     20\u001b[39m \u001b[38;5;28;01mreturn\u001b[39;00m prompt_input_keys[\u001b[32m0\u001b[39m]\n",
      "\u001b[31mValueError\u001b[39m: One input key expected got ['esco', 'hr']"
     ]
    }
   ],
   "source": [
    "results = run_roundtable(\n",
    "    initial_prompt=initial_prompt,\n",
    "    hr_agent=hr_agent,\n",
    "    esco_agent=esco_agent,\n",
    "    planner_agent=planner_agent\n",
    ")"
   ]
  },
  {
   "cell_type": "code",
   "execution_count": null,
   "id": "dbf1b672",
   "metadata": {},
   "outputs": [],
   "source": []
  }
 ],
 "metadata": {
  "kernelspec": {
   "display_name": "teammerge-esco-agent-NYxZIG9y",
   "language": "python",
   "name": "python3"
  },
  "language_info": {
   "codemirror_mode": {
    "name": "ipython",
    "version": 3
   },
   "file_extension": ".py",
   "mimetype": "text/x-python",
   "name": "python",
   "nbconvert_exporter": "python",
   "pygments_lexer": "ipython3",
   "version": "3.11.9"
  }
 },
 "nbformat": 4,
 "nbformat_minor": 5
}
