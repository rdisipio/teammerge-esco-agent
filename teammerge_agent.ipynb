{
 "cells": [
  {
   "cell_type": "code",
   "execution_count": 1,
   "id": "6a80ed08",
   "metadata": {},
   "outputs": [],
   "source": [
    "%load_ext autoreload\n",
    "%autoreload 2"
   ]
  },
  {
   "cell_type": "code",
   "execution_count": 2,
   "id": "ab88daec",
   "metadata": {},
   "outputs": [],
   "source": [
    "import getpass\n",
    "import os\n",
    "\n",
    "if \"GROQ_API_KEY\" not in os.environ:\n",
    "    os.environ[\"GROQ_API_KEY\"] = getpass.getpass(\"Enter your Groq API key: \")"
   ]
  },
  {
   "cell_type": "code",
   "execution_count": null,
   "id": "33e76af2",
   "metadata": {},
   "outputs": [
    {
     "name": "stderr",
     "output_type": "stream",
     "text": [
      "/home/ec2-user/environment/teammerge-esco-agent/teammerge/agents.py:11: LangChainDeprecationWarning: Please see the migration guide at: https://python.langchain.com/docs/versions/migrating_memory/\n",
      "  memory = ConversationBufferMemory(memory_key=\"chat_history\", return_messages=True)\n"
     ]
    }
   ],
   "source": [
    "# 1. Load Libraries and Utilities\n",
    "from langchain_groq import ChatGroq\n",
    "from teammerge.utils import load_esco_data, calculate_skill_gap\n",
    "from teammerge.tools import get_skill_tool, get_occupation_tool, get_skill_gap_tool, make_skill_lookup\n",
    "from teammerge.agents import build_hr_agent, build_esco_agent, build_planner_agent"
   ]
  },
  {
   "cell_type": "code",
   "execution_count": 4,
   "id": "2939691b",
   "metadata": {},
   "outputs": [
    {
     "ename": "KeyError",
     "evalue": "\"['hasEssentialSkill', 'hasOptionalSkill'] not in index\"",
     "output_type": "error",
     "traceback": [
      "\u001b[31m---------------------------------------------------------------------------\u001b[39m",
      "\u001b[31mKeyError\u001b[39m                                  Traceback (most recent call last)",
      "\u001b[36mCell\u001b[39m\u001b[36m \u001b[39m\u001b[32mIn[4]\u001b[39m\u001b[32m, line 2\u001b[39m\n\u001b[32m      1\u001b[39m \u001b[38;5;66;03m# 2. Load ESCO Data\u001b[39;00m\n\u001b[32m----> \u001b[39m\u001b[32m2\u001b[39m skills_df, occupations_df = \u001b[43mload_esco_data\u001b[49m\u001b[43m(\u001b[49m\u001b[33;43m\"\u001b[39;49m\u001b[33;43mdata/esco/skills_en.csv\u001b[39;49m\u001b[33;43m\"\u001b[39;49m\u001b[43m,\u001b[49m\u001b[43m \u001b[49m\u001b[33;43m\"\u001b[39;49m\u001b[33;43mdata/esco/occupations_en.csv\u001b[39;49m\u001b[33;43m\"\u001b[39;49m\u001b[43m)\u001b[49m\n",
      "\u001b[36mFile \u001b[39m\u001b[32m~/environment/teammerge-esco-agent/teammerge/utils.py:14\u001b[39m, in \u001b[36mload_esco_data\u001b[39m\u001b[34m(skills_path, occupations_path)\u001b[39m\n\u001b[32m     11\u001b[39m skills_df = skills_df[[\u001b[33m'\u001b[39m\u001b[33mconceptUri\u001b[39m\u001b[33m'\u001b[39m, \u001b[33m'\u001b[39m\u001b[33mpreferredLabel\u001b[39m\u001b[33m'\u001b[39m, \u001b[33m'\u001b[39m\u001b[33mdescription\u001b[39m\u001b[33m'\u001b[39m]].dropna()\n\u001b[32m     13\u001b[39m occupations_df = pd.read_csv(occupations_path)\n\u001b[32m---> \u001b[39m\u001b[32m14\u001b[39m occupations_df = \u001b[43moccupations_df\u001b[49m\u001b[43m[\u001b[49m\u001b[43m[\u001b[49m\u001b[33;43m'\u001b[39;49m\u001b[33;43mconceptUri\u001b[39;49m\u001b[33;43m'\u001b[39;49m\u001b[43m,\u001b[49m\u001b[43m \u001b[49m\u001b[33;43m'\u001b[39;49m\u001b[33;43mpreferredLabel\u001b[39;49m\u001b[33;43m'\u001b[39;49m\u001b[43m,\u001b[49m\u001b[43m \u001b[49m\u001b[33;43m'\u001b[39;49m\u001b[33;43mdescription\u001b[39;49m\u001b[33;43m'\u001b[39;49m\u001b[43m,\u001b[49m\u001b[43m \u001b[49m\u001b[33;43m'\u001b[39;49m\u001b[33;43mhasEssentialSkill\u001b[39;49m\u001b[33;43m'\u001b[39;49m\u001b[43m,\u001b[49m\u001b[43m \u001b[49m\u001b[33;43m'\u001b[39;49m\u001b[33;43mhasOptionalSkill\u001b[39;49m\u001b[33;43m'\u001b[39;49m\u001b[43m]\u001b[49m\u001b[43m]\u001b[49m\n\u001b[32m     16\u001b[39m \u001b[38;5;28;01mdef\u001b[39;00m\u001b[38;5;250m \u001b[39m\u001b[34mparse_uris\u001b[39m(raw):\n\u001b[32m     17\u001b[39m     \u001b[38;5;28;01mif\u001b[39;00m pd.isna(raw):\n",
      "\u001b[36mFile \u001b[39m\u001b[32m~/.local/share/virtualenvs/teammerge-esco-agent-NYxZIG9y/lib/python3.11/site-packages/pandas/core/frame.py:4113\u001b[39m, in \u001b[36mDataFrame.__getitem__\u001b[39m\u001b[34m(self, key)\u001b[39m\n\u001b[32m   4111\u001b[39m     \u001b[38;5;28;01mif\u001b[39;00m is_iterator(key):\n\u001b[32m   4112\u001b[39m         key = \u001b[38;5;28mlist\u001b[39m(key)\n\u001b[32m-> \u001b[39m\u001b[32m4113\u001b[39m     indexer = \u001b[38;5;28;43mself\u001b[39;49m\u001b[43m.\u001b[49m\u001b[43mcolumns\u001b[49m\u001b[43m.\u001b[49m\u001b[43m_get_indexer_strict\u001b[49m\u001b[43m(\u001b[49m\u001b[43mkey\u001b[49m\u001b[43m,\u001b[49m\u001b[43m \u001b[49m\u001b[33;43m\"\u001b[39;49m\u001b[33;43mcolumns\u001b[39;49m\u001b[33;43m\"\u001b[39;49m\u001b[43m)\u001b[49m[\u001b[32m1\u001b[39m]\n\u001b[32m   4115\u001b[39m \u001b[38;5;66;03m# take() does not accept boolean indexers\u001b[39;00m\n\u001b[32m   4116\u001b[39m \u001b[38;5;28;01mif\u001b[39;00m \u001b[38;5;28mgetattr\u001b[39m(indexer, \u001b[33m\"\u001b[39m\u001b[33mdtype\u001b[39m\u001b[33m\"\u001b[39m, \u001b[38;5;28;01mNone\u001b[39;00m) == \u001b[38;5;28mbool\u001b[39m:\n",
      "\u001b[36mFile \u001b[39m\u001b[32m~/.local/share/virtualenvs/teammerge-esco-agent-NYxZIG9y/lib/python3.11/site-packages/pandas/core/indexes/base.py:6212\u001b[39m, in \u001b[36mIndex._get_indexer_strict\u001b[39m\u001b[34m(self, key, axis_name)\u001b[39m\n\u001b[32m   6209\u001b[39m \u001b[38;5;28;01melse\u001b[39;00m:\n\u001b[32m   6210\u001b[39m     keyarr, indexer, new_indexer = \u001b[38;5;28mself\u001b[39m._reindex_non_unique(keyarr)\n\u001b[32m-> \u001b[39m\u001b[32m6212\u001b[39m \u001b[38;5;28;43mself\u001b[39;49m\u001b[43m.\u001b[49m\u001b[43m_raise_if_missing\u001b[49m\u001b[43m(\u001b[49m\u001b[43mkeyarr\u001b[49m\u001b[43m,\u001b[49m\u001b[43m \u001b[49m\u001b[43mindexer\u001b[49m\u001b[43m,\u001b[49m\u001b[43m \u001b[49m\u001b[43maxis_name\u001b[49m\u001b[43m)\u001b[49m\n\u001b[32m   6214\u001b[39m keyarr = \u001b[38;5;28mself\u001b[39m.take(indexer)\n\u001b[32m   6215\u001b[39m \u001b[38;5;28;01mif\u001b[39;00m \u001b[38;5;28misinstance\u001b[39m(key, Index):\n\u001b[32m   6216\u001b[39m     \u001b[38;5;66;03m# GH 42790 - Preserve name from an Index\u001b[39;00m\n",
      "\u001b[36mFile \u001b[39m\u001b[32m~/.local/share/virtualenvs/teammerge-esco-agent-NYxZIG9y/lib/python3.11/site-packages/pandas/core/indexes/base.py:6264\u001b[39m, in \u001b[36mIndex._raise_if_missing\u001b[39m\u001b[34m(self, key, indexer, axis_name)\u001b[39m\n\u001b[32m   6261\u001b[39m     \u001b[38;5;28;01mraise\u001b[39;00m \u001b[38;5;167;01mKeyError\u001b[39;00m(\u001b[33mf\u001b[39m\u001b[33m\"\u001b[39m\u001b[33mNone of [\u001b[39m\u001b[38;5;132;01m{\u001b[39;00mkey\u001b[38;5;132;01m}\u001b[39;00m\u001b[33m] are in the [\u001b[39m\u001b[38;5;132;01m{\u001b[39;00maxis_name\u001b[38;5;132;01m}\u001b[39;00m\u001b[33m]\u001b[39m\u001b[33m\"\u001b[39m)\n\u001b[32m   6263\u001b[39m not_found = \u001b[38;5;28mlist\u001b[39m(ensure_index(key)[missing_mask.nonzero()[\u001b[32m0\u001b[39m]].unique())\n\u001b[32m-> \u001b[39m\u001b[32m6264\u001b[39m \u001b[38;5;28;01mraise\u001b[39;00m \u001b[38;5;167;01mKeyError\u001b[39;00m(\u001b[33mf\u001b[39m\u001b[33m\"\u001b[39m\u001b[38;5;132;01m{\u001b[39;00mnot_found\u001b[38;5;132;01m}\u001b[39;00m\u001b[33m not in index\u001b[39m\u001b[33m\"\u001b[39m)\n",
      "\u001b[31mKeyError\u001b[39m: \"['hasEssentialSkill', 'hasOptionalSkill'] not in index\""
     ]
    }
   ],
   "source": [
    "# 2. Load ESCO Data\n",
    "skills_df, occupations_df = load_esco_data(\"data/esco/skills_en.csv\", \"data/esco/occupations_en.csv\")"
   ]
  },
  {
   "cell_type": "code",
   "execution_count": null,
   "id": "c40539bf",
   "metadata": {},
   "outputs": [],
   "source": [
    "# 3. Build Lookup Function \n",
    "skill_lookup = make_skill_lookup(skills_df)"
   ]
  },
  {
   "cell_type": "code",
   "execution_count": null,
   "id": "55c9bad8",
   "metadata": {},
   "outputs": [],
   "source": [
    "# 4. Load ChromaDB Vectorstores\n",
    "from langchain.embeddings import HuggingFaceEmbeddings\n",
    "from langchain.vectorstores import Chroma\n",
    "\n",
    "embedding_model = HuggingFaceEmbeddings(model_name=\"all-MiniLM-L6-v2\")\n",
    "\n",
    "skill_vectorstore = Chroma(persist_directory=\"./chroma/skills_index\", embedding_function=embedding_model)\n",
    "occupation_vectorstore = Chroma(persist_directory=\"./chroma/occupations_index\", embedding_function=embedding_model)\n",
    "\n",
    "skill_vectorstore.persist()\n",
    "occupation_vectorstore.persist()"
   ]
  },
  {
   "cell_type": "code",
   "execution_count": null,
   "id": "0e75e7e3",
   "metadata": {},
   "outputs": [],
   "source": [
    "# 6. Initialize LLM\n",
    "llm = ChatGroq(temperature=0, model_name=\"llama3-70b-8192\")"
   ]
  },
  {
   "cell_type": "code",
   "execution_count": null,
   "id": "5fd7457f",
   "metadata": {},
   "outputs": [],
   "source": [
    "# 7. Create Agents\n",
    "hr_agent = build_hr_agent(llm)\n",
    "esco_agent = build_esco_agent(llm)\n",
    "planner_agent = build_planner_agent(llm)"
   ]
  },
  {
   "cell_type": "code",
   "execution_count": null,
   "id": "47661da3",
   "metadata": {},
   "outputs": [],
   "source": [
    "# 8. Routing Logic\n",
    "\n",
    "def route_to_agent(user_input: str):\n",
    "    if \"team\" in user_input or \"restructure\" in user_input or \"manager\" in user_input:\n",
    "        return hr_agent.run(user_input)\n",
    "    elif \"skill\" in user_input or \"ESCO\" in user_input or \"occupation\" in user_input:\n",
    "        return esco_agent.run(user_input)\n",
    "    elif \"plan\" in user_input or \"transition\" in user_input or \"reskill\" in user_input:\n",
    "        return planner_agent.run(user_input)\n",
    "    else:\n",
    "        return esco_agent.run(user_input)"
   ]
  },
  {
   "cell_type": "code",
   "execution_count": null,
   "id": "433a84f7",
   "metadata": {},
   "outputs": [],
   "source": [
    "# 9. Interactive Loop (optional in notebook)\n",
    "print(\"🟢 TeamMerge Agent Ready. Type 'exit' to stop.\\n\")\n",
    "\n",
    "while True:\n",
    "    user_input = input(\"👤 You: \")\n",
    "    if user_input.lower() in {\"exit\", \"quit\"}:\n",
    "        break\n",
    "    print(\"🤖 Agent:\\n\" + route_to_agent(user_input) + \"\\n\")"
   ]
  }
 ],
 "metadata": {
  "kernelspec": {
   "display_name": "teammerge-esco-agent-NYxZIG9y",
   "language": "python",
   "name": "python3"
  },
  "language_info": {
   "codemirror_mode": {
    "name": "ipython",
    "version": 3
   },
   "file_extension": ".py",
   "mimetype": "text/x-python",
   "name": "python",
   "nbconvert_exporter": "python",
   "pygments_lexer": "ipython3",
   "version": "3.11.9"
  }
 },
 "nbformat": 4,
 "nbformat_minor": 5
}
