{
 "cells": [
  {
   "cell_type": "code",
   "execution_count": 1,
   "id": "6a80ed08",
   "metadata": {},
   "outputs": [],
   "source": [
    "%load_ext autoreload\n",
    "%autoreload 2"
   ]
  },
  {
   "cell_type": "code",
   "execution_count": 2,
   "id": "ab88daec",
   "metadata": {},
   "outputs": [],
   "source": [
    "import getpass\n",
    "import os\n",
    "\n",
    "if \"GROQ_API_KEY\" not in os.environ:\n",
    "    os.environ[\"GROQ_API_KEY\"] = getpass.getpass(\"Enter your Groq API key: \")"
   ]
  },
  {
   "cell_type": "code",
   "execution_count": null,
   "id": "33e76af2",
   "metadata": {},
   "outputs": [],
   "source": [
    "# 1. Load Libraries and Utilities\n",
    "from langchain_groq import ChatGroq\n",
    "from teammerge.utils import load_esco_data, make_skill_lookup"
   ]
  },
  {
   "cell_type": "code",
   "execution_count": 36,
   "id": "2939691b",
   "metadata": {},
   "outputs": [],
   "source": [
    "# 2. Load ESCO Data\n",
    "from teammerge.utils import ESCOContext\n",
    "\n",
    "context = ESCOContext.load(\"data/esco\")"
   ]
  },
  {
   "cell_type": "markdown",
   "id": "4ff82eee",
   "metadata": {},
   "source": [
    "### Embed and Save Skills to ChromaDB"
   ]
  },
  {
   "cell_type": "code",
   "execution_count": null,
   "id": "fe6aca67",
   "metadata": {},
   "outputs": [
    {
     "data": {
      "application/vnd.jupyter.widget-view+json": {
       "model_id": "f69e9c6e24b7447a9122a799a84efd09",
       "version_major": 2,
       "version_minor": 0
      },
      "text/plain": [
       "Batches:   0%|          | 0/171 [00:00<?, ?it/s]"
      ]
     },
     "metadata": {},
     "output_type": "display_data"
    },
    {
     "data": {
      "application/vnd.jupyter.widget-view+json": {
       "model_id": "37355c9997ac4fb286b3e0c6895b22be",
       "version_major": 2,
       "version_minor": 0
      },
      "text/plain": [
       "Batches:   0%|          | 0/171 [00:00<?, ?it/s]"
      ]
     },
     "metadata": {},
     "output_type": "display_data"
    },
    {
     "data": {
      "application/vnd.jupyter.widget-view+json": {
       "model_id": "4c5b7886cb304554a615ca8e56ac0cbc",
       "version_major": 2,
       "version_minor": 0
      },
      "text/plain": [
       "Batches:   0%|          | 0/95 [00:00<?, ?it/s]"
      ]
     },
     "metadata": {},
     "output_type": "display_data"
    },
    {
     "name": "stderr",
     "output_type": "stream",
     "text": [
      "/tmp/ipykernel_208497/2514182280.py:27: LangChainDeprecationWarning: Since Chroma 0.4.x the manual persistence method is no longer supported as docs are automatically persisted.\n",
      "  skill_vectorstore.persist()\n"
     ]
    }
   ],
   "source": [
    "from langchain.schema import Document\n",
    "from langchain.vectorstores import Chroma\n",
    "from langchain.embeddings import HuggingFaceEmbeddings\n",
    "\n",
    "# Initialize embedding model\n",
    "embedding_model = HuggingFaceEmbeddings(model_name=\"all-MiniLM-L6-v2\", show_progress=True)\n",
    "\n",
    "# Convert skills_df to documents\n",
    "skill_documents = [\n",
    "    Document(\n",
    "        page_content=row['description'],\n",
    "        metadata={\n",
    "            \"uri\": row['conceptUri'],\n",
    "            \"label\": row['preferredLabel']\n",
    "        }\n",
    "    )\n",
    "    for _, row in context.skills_df.iterrows()\n",
    "]\n",
    "\n",
    "# Create Chroma index\n",
    "skill_vectorstore = Chroma.from_documents(\n",
    "    documents=skill_documents,\n",
    "    embedding=embedding_model,\n",
    "    persist_directory=\"chroma/skills_index\"\n",
    ")\n",
    "\n",
    "skill_vectorstore.persist()"
   ]
  },
  {
   "cell_type": "markdown",
   "id": "a5cb4d9c",
   "metadata": {},
   "source": [
    "### Embed and Save Occupations to ChromaDB"
   ]
  },
  {
   "cell_type": "code",
   "execution_count": null,
   "id": "5ca2112d",
   "metadata": {},
   "outputs": [
    {
     "data": {
      "application/vnd.jupyter.widget-view+json": {
       "model_id": "abb4c219e28549fca994360be5fd4628",
       "version_major": 2,
       "version_minor": 0
      },
      "text/plain": [
       "Batches:   0%|          | 0/95 [00:00<?, ?it/s]"
      ]
     },
     "metadata": {},
     "output_type": "display_data"
    }
   ],
   "source": [
    "occupation_documents = [\n",
    "    Document(\n",
    "        page_content=row['description'],\n",
    "        metadata={\n",
    "            \"uri\": row['conceptUri'],\n",
    "            \"label\": row['preferredLabel']\n",
    "        }\n",
    "    )\n",
    "    for _, row in context.occupations_df.iterrows()\n",
    "]\n",
    "\n",
    "occupation_vectorstore = Chroma.from_documents(\n",
    "    documents=occupation_documents,\n",
    "    embedding=embedding_model,\n",
    "    persist_directory=\"chroma/occupations_index\"\n",
    ")\n",
    "\n",
    "occupation_vectorstore.persist()"
   ]
  },
  {
   "cell_type": "code",
   "execution_count": 19,
   "id": "55c9bad8",
   "metadata": {},
   "outputs": [
    {
     "name": "stderr",
     "output_type": "stream",
     "text": [
      "/tmp/ipykernel_208497/230648347.py:7: LangChainDeprecationWarning: The class `Chroma` was deprecated in LangChain 0.2.9 and will be removed in 1.0. An updated version of the class exists in the :class:`~langchain-chroma package and should be used instead. To use it run `pip install -U :class:`~langchain-chroma` and import as `from :class:`~langchain_chroma import Chroma``.\n",
      "  skill_vectorstore = Chroma(persist_directory=\"./chroma/skills_index\", embedding_function=embedding_model)\n"
     ]
    }
   ],
   "source": [
    "# 4. Load ChromaDB Vectorstores\n",
    "from langchain.embeddings import HuggingFaceEmbeddings\n",
    "from langchain.vectorstores import Chroma\n",
    "\n",
    "embedding_model = HuggingFaceEmbeddings(model_name=\"all-MiniLM-L6-v2\")\n",
    "\n",
    "skill_vectorstore = Chroma(persist_directory=\"./chroma/skills_index\", embedding_function=embedding_model)\n",
    "occupation_vectorstore = Chroma(persist_directory=\"./chroma/occupations_index\", embedding_function=embedding_model)"
   ]
  },
  {
   "cell_type": "code",
   "execution_count": 86,
   "id": "0e75e7e3",
   "metadata": {},
   "outputs": [],
   "source": [
    "# 6. Initialize LLM\n",
    "llm = ChatGroq(temperature=0, model_name=\"llama3-70b-8192\")"
   ]
  },
  {
   "cell_type": "code",
   "execution_count": 99,
   "id": "5fd7457f",
   "metadata": {},
   "outputs": [],
   "source": [
    "# 7. Create Agents\n",
    "from teammerge.tools import get_skill_tool, get_occupation_tool, get_skill_gap_tool\n",
    "from teammerge.agents import build_esco_agent, build_hr_chain, build_planner_chain\n",
    "\n",
    "esco_tools = [\n",
    "    get_skill_tool(skill_vectorstore),\n",
    "    get_occupation_tool(occupation_vectorstore),\n",
    "    get_skill_gap_tool(context)\n",
    "]\n",
    "\n",
    "hr_agent = build_hr_chain(llm)\n",
    "planner_agent = build_planner_chain(llm)\n",
    "esco_agent = build_esco_agent(llm, tools=esco_tools)  # Skill search only\n"
   ]
  },
  {
   "cell_type": "code",
   "execution_count": 100,
   "id": "920a3603",
   "metadata": {},
   "outputs": [],
   "source": [
    "# 8. Example Usage: roundtable\n",
    "# The roundtable discussion simulates a meeting where agents discuss team composition and skill gaps.\n",
    "\n",
    "from teammerge.agents import run_roundtable\n",
    "\n",
    "initial_prompt=\"\"\"\n",
    "We currently have 2 data engineers and 3 business analysts on staff. \n",
    "The incoming team brings 2 data scientists and 1 machine learning engineers. \n",
    "Let's explore role overlaps and potential gaps.\n",
    "\"\"\"\n"
   ]
  },
  {
   "cell_type": "code",
   "execution_count": 101,
   "id": "0f531fb2",
   "metadata": {},
   "outputs": [
    {
     "name": "stdout",
     "output_type": "stream",
     "text": [
      "🟢 Initial Prompt:\n",
      " \n",
      "We currently have 2 data engineers and 3 business analysts on staff. \n",
      "The incoming team brings 2 data scientists and 1 machine learning engineers. \n",
      "Let's explore role overlaps and potential gaps.\n",
      "\n",
      "\n",
      "\n",
      "\u001b[1m> Entering new LLMChain chain...\u001b[0m\n",
      "Prompt after formatting:\n",
      "\u001b[32;1m\u001b[1;3mYou are an HR expert. Based on the following team update, describe the current and incoming team structure in 2–3 concise sentences.\n",
      "\n",
      "Team update:\n",
      "\n",
      "We currently have 2 data engineers and 3 business analysts on staff. \n",
      "The incoming team brings 2 data scientists and 1 machine learning engineers. \n",
      "Let's explore role overlaps and potential gaps.\n",
      "\n",
      "\u001b[0m\n",
      "\n",
      "\u001b[1m> Finished chain.\u001b[0m\n",
      "\n",
      "🧑‍💼 HR Agent:\n",
      " Here is a concise summary of the current and incoming team structure:\n",
      "\n",
      "The current team consists of 2 Data Engineers and 3 Business Analysts. The incoming team will add 2 Data Scientists and 1 Machine Learning Engineer, expanding the team's technical capabilities. The combined team will have a mix of technical and analytical roles, with potential overlaps and gaps to be explored.\n",
      "\n",
      "📚 ESCO Agent:\n",
      " The core ESCO skills for each mentioned role are:\n",
      "\n",
      "* Data Engineers: manage data, use geographic information systems, SAS Data Management\n",
      "* Business Analysts: business analyst, assess needs for change, analyse data\n",
      "* Data Scientists: data scientist, build mathematical models, create visualisations\n",
      "* Machine Learning Engineers: computer vision engineer, IoT developer, machine learning algorithms\n",
      "\n",
      "\n",
      "\u001b[1m> Entering new LLMChain chain...\u001b[0m\n",
      "Prompt after formatting:\n",
      "\u001b[32;1m\u001b[1;3m\n",
      "You are a strategic planner helping restructure tech teams. \n",
      "Based on the following input, recommend a new team structure in under 3 sentences.\n",
      "Assign a name to each new team/pod. Names can be creative but should reflect the team's focus.\n",
      "\n",
      "HR Reported:\n",
      "Here is a concise summary of the current and incoming team structure:\n",
      "\n",
      "The current team consists of 2 Data Engineers and 3 Business Analysts. The incoming team will add 2 Data Scientists and 1 Machine Learning Engineer, expanding the team's technical capabilities. The combined team will have a mix of technical and analytical roles, with potential overlaps and gaps to be explored.\n",
      "\n",
      "ESCO Insights:\n",
      "The core ESCO skills for each mentioned role are:\n",
      "\n",
      "* Data Engineers: manage data, use geographic information systems, SAS Data Management\n",
      "* Business Analysts: business analyst, assess needs for change, analyse data\n",
      "* Data Scientists: data scientist, build mathematical models, create visualisations\n",
      "* Machine Learning Engineers: computer vision engineer, IoT developer, machine learning algorithms\n",
      "\u001b[0m\n",
      "\n",
      "\u001b[1m> Finished chain.\u001b[0m\n",
      "\n",
      "🧠 Planner Agent:\n",
      " Based on the input, I recommend the following new team structure:\n",
      "\n",
      "**Data Foundation Pod**: Comprising the 2 Data Engineers, this pod will focus on managing data, using geographic information systems, and SAS Data Management to create a solid data foundation.\n",
      "\n",
      "**Insights & Analytics Pod**: This pod will consist of the 3 Business Analysts, 2 Data Scientists, and 1 Machine Learning Engineer. They will work together to assess needs for change, analyze data, build mathematical models, create visualizations, and develop machine learning algorithms to drive business insights and decision-making.\n"
     ]
    }
   ],
   "source": [
    "results = run_roundtable(\n",
    "    initial_prompt=initial_prompt,\n",
    "    hr_agent=hr_agent,\n",
    "    esco_agent=esco_agent,\n",
    "    planner_agent=planner_agent\n",
    ")"
   ]
  },
  {
   "cell_type": "code",
   "execution_count": null,
   "id": "c233686f",
   "metadata": {},
   "outputs": [],
   "source": []
  }
 ],
 "metadata": {
  "kernelspec": {
   "display_name": "teammerge-esco-agent-NYxZIG9y",
   "language": "python",
   "name": "python3"
  },
  "language_info": {
   "codemirror_mode": {
    "name": "ipython",
    "version": 3
   },
   "file_extension": ".py",
   "mimetype": "text/x-python",
   "name": "python",
   "nbconvert_exporter": "python",
   "pygments_lexer": "ipython3",
   "version": "3.11.9"
  }
 },
 "nbformat": 4,
 "nbformat_minor": 5
}
